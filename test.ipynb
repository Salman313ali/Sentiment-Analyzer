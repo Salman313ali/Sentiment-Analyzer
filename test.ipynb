{
 "cells": [
  {
   "cell_type": "code",
   "execution_count": 1,
   "id": "e306411d",
   "metadata": {},
   "outputs": [],
   "source": [
    "from dotenv import load_dotenv\n",
    "import os\n",
    "import re\n",
    "from langchain_groq import ChatGroq\n",
    "from langchain.prompts import ChatPromptTemplate\n",
    "from langchain import LLMChain"
   ]
  },
  {
   "cell_type": "code",
   "execution_count": 2,
   "id": "0998a179",
   "metadata": {},
   "outputs": [],
   "source": [
    "load_dotenv()\n",
    "GROQ_API_KEY = os.getenv(\"GROQ_API_KEY\")\n",
    "llm = ChatGroq(api_key=GROQ_API_KEY, model_name=\"qwen/qwen3-32b\")"
   ]
  },
  {
   "cell_type": "code",
   "execution_count": 3,
   "id": "e2835d6f",
   "metadata": {},
   "outputs": [],
   "source": [
    "ANALYZER_PROMPT = ChatPromptTemplate.from_messages([\n",
    "    (\n",
    "        \"system\",\n",
    "        \"You are an expert sentiment analysis model. \"\n",
    "        \"Your task is to classify the sentiment of the provided text as exactly one of: \"\n",
    "        \"<NEGATIVE>, <NEUTRAL>, or <POSITIVE>. \"\n",
    "        \"Respond with only the tag—no additional text or explanation.\"\n",
    "    ),\n",
    "    (\n",
    "        \"human\",\n",
    "        \"Text to analyze:\\n{input_text}\"\n",
    "    )\n",
    "])"
   ]
  },
  {
   "cell_type": "code",
   "execution_count": 4,
   "id": "4b4cd598",
   "metadata": {},
   "outputs": [
    {
     "name": "stderr",
     "output_type": "stream",
     "text": [
      "C:\\Users\\Lenovo\\AppData\\Local\\Temp\\ipykernel_19776\\1828162529.py:1: LangChainDeprecationWarning: The class `LLMChain` was deprecated in LangChain 0.1.17 and will be removed in 1.0. Use :meth:`~RunnableSequence, e.g., `prompt | llm`` instead.\n",
      "  analysis_chain = LLMChain(llm=llm, prompt=ANALYZER_PROMPT)\n"
     ]
    }
   ],
   "source": [
    "analysis_chain = LLMChain(llm=llm, prompt=ANALYZER_PROMPT)"
   ]
  },
  {
   "cell_type": "code",
   "execution_count": 5,
   "id": "d01b7c69",
   "metadata": {},
   "outputs": [
    {
     "name": "stderr",
     "output_type": "stream",
     "text": [
      "C:\\Users\\Lenovo\\AppData\\Local\\Temp\\ipykernel_19776\\804419120.py:1: LangChainDeprecationWarning: The method `Chain.run` was deprecated in langchain 0.1.0 and will be removed in 1.0. Use :meth:`~invoke` instead.\n",
      "  only_text = re.sub(r'<think>.*?</think>', '', analysis_chain.run(input_text=\"it was okies\") .strip(), flags=re.DOTALL).strip()\n"
     ]
    }
   ],
   "source": [
    "only_text = re.sub(r'<think>.*?</think>', '', summary_chain.run(input_text=\"it was okies\") .strip(), flags=re.DOTALL).strip()\n",
    "\n"
   ]
  },
  {
   "cell_type": "code",
   "execution_count": null,
   "id": "922a0117",
   "metadata": {},
   "outputs": [
    {
     "data": {
      "text/plain": [
       "'<NEUTRAL>'"
      ]
     },
     "execution_count": 6,
     "metadata": {},
     "output_type": "execute_result"
    },
    {
     "ename": "",
     "evalue": "",
     "output_type": "error",
     "traceback": [
      "\u001b[1;31mThe Kernel crashed while executing code in the current cell or a previous cell. \n",
      "\u001b[1;31mPlease review the code in the cell(s) to identify a possible cause of the failure. \n",
      "\u001b[1;31mClick <a href='https://aka.ms/vscodeJupyterKernelCrash'>here</a> for more info. \n",
      "\u001b[1;31mView Jupyter <a href='command:jupyter.viewOutput'>log</a> for further details."
     ]
    }
   ],
   "source": [
    "only_text  "
   ]
  },
  {
   "cell_type": "code",
   "execution_count": null,
   "id": "61bb2350",
   "metadata": {},
   "outputs": [],
   "source": []
  },
  {
   "cell_type": "code",
   "execution_count": null,
   "id": "7e7089fc",
   "metadata": {},
   "outputs": [],
   "source": []
  }
 ],
 "metadata": {
  "kernelspec": {
   "display_name": "venv",
   "language": "python",
   "name": "python3"
  },
  "language_info": {
   "codemirror_mode": {
    "name": "ipython",
    "version": 3
   },
   "file_extension": ".py",
   "mimetype": "text/x-python",
   "name": "python",
   "nbconvert_exporter": "python",
   "pygments_lexer": "ipython3",
   "version": "3.12.7"
  }
 },
 "nbformat": 4,
 "nbformat_minor": 5
}
