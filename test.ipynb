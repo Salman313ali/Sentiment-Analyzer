{
 "cells": [
  {
   "cell_type": "code",
   "execution_count": 1,
   "id": "e306411d",
   "metadata": {},
   "outputs": [],
   "source": [
    "from dotenv import load_dotenv\n",
    "import os\n",
    "import re\n",
    "from langchain_groq import ChatGroq\n",
    "from langchain.prompts import ChatPromptTemplate\n",
    "from langchain import LLMChain"
   ]
  },
  {
   "cell_type": "code",
   "execution_count": 3,
   "id": "0998a179",
   "metadata": {},
   "outputs": [],
   "source": [
    "load_dotenv()\n",
    "GROQ_API_KEY = os.getenv(\"GROQ_API_KEY\")\n",
    "llm = ChatGroq(api_key=GROQ_API_KEY, model_name=\"qwen/qwen3-32b\")"
   ]
  },
  {
   "cell_type": "code",
   "execution_count": 4,
   "id": "e2835d6f",
   "metadata": {},
   "outputs": [],
   "source": [
    "ANALYZER_PROMPT = ChatPromptTemplate.from_messages([\n",
    "    (\n",
    "        \"system\",\n",
    "        \"You are an expert sentiment analysis model. \"\n",
    "        \"Your task is to classify the sentiment of the provided text as exactly one of: \"\n",
    "        \"<NEGATIVE>, <NEUTRAL>, or <POSITIVE>. \"\n",
    "        \"Respond with only the tag—no additional text or explanation.\"\n",
    "    ),\n",
    "    (\n",
    "        \"human\",\n",
    "        \"Text to analyze:\\n{input_text}\"\n",
    "    )\n",
    "])"
   ]
  },
  {
   "cell_type": "code",
   "execution_count": 5,
   "id": "4b4cd598",
   "metadata": {},
   "outputs": [
    {
     "name": "stderr",
     "output_type": "stream",
     "text": [
      "C:\\Users\\Lenovo\\AppData\\Local\\Temp\\ipykernel_3936\\1828162529.py:1: LangChainDeprecationWarning: The class `LLMChain` was deprecated in LangChain 0.1.17 and will be removed in 1.0. Use :meth:`~RunnableSequence, e.g., `prompt | llm`` instead.\n",
      "  summary_chain = LLMChain(llm=llm, prompt=ANALYZER_PROMPT)\n"
     ]
    }
   ],
   "source": [
    "summary_chain = LLMChain(llm=llm, prompt=ANALYZER_PROMPT)"
   ]
  },
  {
   "cell_type": "code",
   "execution_count": 11,
   "id": "d01b7c69",
   "metadata": {},
   "outputs": [],
   "source": [
    "input_text = \"it was okies\"\n",
    "cleaned_text = re.sub(r'<think>.*?</think>', '', summary_chain.run(input_text=input_text) .strip(), flags=re.DOTALL).strip()"
   ]
  },
  {
   "cell_type": "code",
   "execution_count": 12,
   "id": "922a0117",
   "metadata": {},
   "outputs": [
    {
     "data": {
      "text/plain": [
       "'<NEUTRAL>'"
      ]
     },
     "execution_count": 12,
     "metadata": {},
     "output_type": "execute_result"
    }
   ],
   "source": [
    "cleaned_text  "
   ]
  },
  {
   "cell_type": "code",
   "execution_count": null,
   "id": "6043b59c",
   "metadata": {},
   "outputs": [],
   "source": []
  }
 ],
 "metadata": {
  "kernelspec": {
   "display_name": "venv",
   "language": "python",
   "name": "python3"
  },
  "language_info": {
   "codemirror_mode": {
    "name": "ipython",
    "version": 3
   },
   "file_extension": ".py",
   "mimetype": "text/x-python",
   "name": "python",
   "nbconvert_exporter": "python",
   "pygments_lexer": "ipython3",
   "version": "3.12.7"
  }
 },
 "nbformat": 4,
 "nbformat_minor": 5
}
